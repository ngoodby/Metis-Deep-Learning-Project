{
 "cells": [
  {
   "cell_type": "markdown",
   "id": "cac5a9e0",
   "metadata": {},
   "source": [
    "# Baseline CNN model"
   ]
  },
  {
   "cell_type": "code",
   "execution_count": null,
   "id": "b4fed213",
   "metadata": {},
   "outputs": [],
   "source": [
    "import tensorflow as tf\n",
    "from tensorflow import keras\n",
    "from tensorflow.keras import layers\n",
    "baseline_model = keras.Sequential([\n",
    "    layers.Conv2D(10, (3, 3), activation = 'relu', padding = 'same', input_shape = (224,224,3)), \n",
    "    layers.MaxPooling2D(2,2),\n",
    "    layers.Conv2D(10, (3, 3), activation = 'relu', padding = 'same'),\n",
    "    layers.MaxPooling2D(2,2),\n",
    "    layers.Flatten(),\n",
    "    layers.Dense(20, activation='relu'),\n",
    "    layers.Dense(num_classes, activation='softmax')\n",
    "])"
   ]
  },
  {
   "cell_type": "code",
   "execution_count": null,
   "id": "e5cd5024",
   "metadata": {},
   "outputs": [],
   "source": [
    "baseline_model.summary()"
   ]
  },
  {
   "cell_type": "code",
   "execution_count": null,
   "id": "a6043121",
   "metadata": {},
   "outputs": [],
   "source": [
    "baseline_model.compile(optimizer = 'adam', loss = 'cateogrical_crossentropy', metrics=['accuracy'])"
   ]
  },
  {
   "cell_type": "code",
   "execution_count": null,
   "id": "7b270a75",
   "metadata": {},
   "outputs": [],
   "source": [
    "from tensorflow import keras\n",
    "from tensorflow.keras.callbacks import ModelCheckpoint\n",
    "baseline = baseline_model.fit(train_images, train_labels, batch_size=64, epochs=10, verbose=1, \n",
    "                    validation_split = 0.2,\n",
    "                   callbacks=[\n",
    "           ModelCheckpoint(\n",
    "               'models/baseline/baseline_cnn.{epoch:02d}-{val_loss:.2f}.hdf5',\n",
    "               save_best_only=True)\n",
    "       ])"
   ]
  },
  {
   "cell_type": "code",
   "execution_count": null,
   "id": "3efc9ef8",
   "metadata": {},
   "outputs": [],
   "source": [
    "from sklearn.metrics import accuracy_score\n",
    "baseline_preds = np.argmax(baseline_model.predict(test_images), axis=1)\n",
    "accuracy_score(test_labels, baseline_preds)"
   ]
  },
  {
   "cell_type": "code",
   "execution_count": 16,
   "id": "414fe190",
   "metadata": {},
   "outputs": [],
   "source": [
    "def plot_accuracy_loss(history):\n",
    "    \"\"\"\n",
    "        Plot the accuracy and the loss during the training of the cnn.\n",
    "    \"\"\"\n",
    "    fig = plt.figure(figsize=(10,5))\n",
    "\n",
    "    # Plot accuracy\n",
    "    plt.subplot(221)\n",
    "    plt.plot(history.history['accuracy'],'bo--', label = \"acc\")\n",
    "    plt.plot(history.history['val_accuracy'], 'ro--', label = \"val_acc\")\n",
    "    plt.title(\"train_acc vs val_acc\")\n",
    "    plt.ylabel(\"accuracy\")\n",
    "    plt.xlabel(\"epochs\")\n",
    "    plt.legend()\n",
    "\n",
    "    # Plot loss function\n",
    "    plt.subplot(222)\n",
    "    plt.plot(history.history['loss'],'bo--', label = \"loss\")\n",
    "    plt.plot(history.history['val_loss'], 'ro--', label = \"val_loss\")\n",
    "    plt.title(\"train_loss vs val_loss\")\n",
    "    plt.ylabel(\"loss\")\n",
    "    plt.xlabel(\"epochs\")\n",
    "\n",
    "    plt.legend()\n",
    "    plt.show()\n",
    "    plt.tight_layout()\n",
    "#     fig.savefig('fig1.jpg')"
   ]
  },
  {
   "cell_type": "code",
   "execution_count": null,
   "id": "9fb4b950",
   "metadata": {},
   "outputs": [],
   "source": [
    "plot_accuracy_loss(baseline)"
   ]
  },
  {
   "cell_type": "code",
   "execution_count": 104,
   "id": "50d9163a",
   "metadata": {
    "scrolled": true
   },
   "outputs": [],
   "source": [
    "import seaborn as sns\n",
    "from sklearn.metrics import confusion_matrix\n",
    "def cm(test_labels, preds, class_names, title):\n",
    "    cm = confusion_matrix(test_labels, preds)\n",
    "    ax = plt.axes()\n",
    "    sns.heatmap(cm, annot=True, \n",
    "               annot_kws={\"size\": 10}, \n",
    "               xticklabels=class_names, \n",
    "               yticklabels=class_names, ax = ax)\n",
    "    ax.set_title(title)\n",
    "#     plt.figure(figsize=(2,2))\n",
    "    plt.show()"
   ]
  },
  {
   "cell_type": "code",
   "execution_count": null,
   "id": "211ba99d",
   "metadata": {
    "scrolled": true
   },
   "outputs": [],
   "source": [
    "cm(test_labels, baseline_preds, class_names)"
   ]
  },
  {
   "cell_type": "code",
   "execution_count": null,
   "id": "289165c6",
   "metadata": {},
   "outputs": [],
   "source": []
  }
 ],
 "metadata": {
  "kernelspec": {
   "display_name": "Python 3 (deep_learning)",
   "language": "python",
   "name": "deep_learning"
  },
  "language_info": {
   "codemirror_mode": {
    "name": "ipython",
    "version": 3
   },
   "file_extension": ".py",
   "mimetype": "text/x-python",
   "name": "python",
   "nbconvert_exporter": "python",
   "pygments_lexer": "ipython3",
   "version": "3.8.8"
  }
 },
 "nbformat": 4,
 "nbformat_minor": 5
}
